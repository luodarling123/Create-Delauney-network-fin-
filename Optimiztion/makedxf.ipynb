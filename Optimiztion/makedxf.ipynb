{
 "cells": [
  {
   "cell_type": "code",
   "execution_count": 4,
   "metadata": {},
   "outputs": [],
   "source": [
    "## import\n",
    "import numpy as np\n",
    "import matplotlib.pyplot as plt\n",
    "import ezdxf"
   ]
  },
  {
   "cell_type": "code",
   "execution_count": 5,
   "metadata": {},
   "outputs": [
    {
     "data": {
      "text/plain": [
       "(1117, 6)"
      ]
     },
     "execution_count": 5,
     "metadata": {},
     "output_type": "execute_result"
    }
   ],
   "source": [
    "edgelist = np.loadtxt('G:\\\\FEM\\\\GraphAnalysis2\\\\Optimiztion\\\\edge_Data190.txt', delimiter=',')\n",
    "edgelist.shape "
   ]
  },
  {
   "cell_type": "code",
   "execution_count": 6,
   "metadata": {},
   "outputs": [],
   "source": [
    "def draw_lines_as_dxf(lines, filename):\n",
    "    doc = ezdxf.new(\"R2010\")  # 创建一个新的DXF文档\n",
    "    msp = doc.modelspace()  # 获取模型空间对象\n",
    "    \n",
    "    for i in range(len(edgelist)):\n",
    "        msp.add_line((edgelist[i,2],  edgelist[i,3]), (edgelist[i,4], edgelist[i,5]))  # 添加线条到模型空间\n",
    "    \n",
    "    doc.saveas(filename)  # 保存DXF文件\n",
    "\n",
    "# 示例数据\n",
    "\n",
    "\n",
    "draw_lines_as_dxf(edgelist, \"22_GreedyNetwork60.dxf\")"
   ]
  },
  {
   "cell_type": "code",
   "execution_count": null,
   "metadata": {},
   "outputs": [],
   "source": []
  },
  {
   "cell_type": "code",
   "execution_count": null,
   "metadata": {},
   "outputs": [],
   "source": []
  }
 ],
 "metadata": {
  "kernelspec": {
   "display_name": "pytorch1",
   "language": "python",
   "name": "python3"
  },
  "language_info": {
   "codemirror_mode": {
    "name": "ipython",
    "version": 3
   },
   "file_extension": ".py",
   "mimetype": "text/x-python",
   "name": "python",
   "nbconvert_exporter": "python",
   "pygments_lexer": "ipython3",
   "version": "3.9.16"
  },
  "orig_nbformat": 4
 },
 "nbformat": 4,
 "nbformat_minor": 2
}
